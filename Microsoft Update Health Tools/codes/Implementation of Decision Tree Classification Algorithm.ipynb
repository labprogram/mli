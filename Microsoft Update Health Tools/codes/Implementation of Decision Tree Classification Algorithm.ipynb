{
 "cells": [
  {
   "cell_type": "code",
   "execution_count": 10,
   "id": "d1c38e8a",
   "metadata": {},
   "outputs": [
    {
     "name": "stdout",
     "output_type": "stream",
     "text": [
      "Columns in the dataset: Index(['Pregnancies', 'Glucose', 'BloodPressure', 'SkinThickness', 'Insulin',\n",
      "       'BMI', 'DiabetesPedigreeFunction', 'Age', 'Outcome'],\n",
      "      dtype='object')\n",
      "Accuracy: 68.83%\n"
     ]
    }
   ],
   "source": [
    "import pandas as pd\n",
    "from sklearn.preprocessing import LabelEncoder\n",
    "from sklearn.model_selection import train_test_split\n",
    "from sklearn.linear_model import LogisticRegression\n",
    "from sklearn.metrics import accuracy_score\n",
    "\n",
    "pima = pd.read_csv('C:/Users/ADMIN/Desktop/ml/datasets/diabetes.csv')\n",
    "\n",
    "print(\"Columns in the dataset:\", pima.columns)\n",
    "\n",
    "le = LabelEncoder()\n",
    "\n",
    "pima['Pregnancies'] = le.fit_transform(pima['Pregnancies'].astype(str))\n",
    "pima['Insulin'] = le.fit_transform(pima['Insulin'].astype(str))\n",
    "pima['BMI'] = le.fit_transform(pima['BMI'].astype(str))\n",
    "pima['Age'] = le.fit_transform(pima['Age'].astype(str))\n",
    "pima['Glucose'] = le.fit_transform(pima['Glucose'].astype(str))\n",
    "pima['BloodPressure'] = le.fit_transform(pima['BloodPressure'].astype(str))\n",
    "pima['DiabetesPedigreeFunction'] = le.fit_transform(pima['DiabetesPedigreeFunction'].astype(str))\n",
    "\n",
    "pima.fillna(pima.mean(), inplace=True)\n",
    "\n",
    "feature_cols = ['Pregnancies', 'Glucose', 'BloodPressure', 'Insulin', 'BMI', 'DiabetesPedigreeFunction', 'Age']\n",
    "X = pima[feature_cols]\n",
    "y = pima['Outcome']\n",
    "\n",
    "X_train, X_test, y_train, y_test = train_test_split(X, y, test_size=0.3, random_state=42)\n",
    "\n",
    "model = LogisticRegression(max_iter=200)\n",
    "\n",
    "model.fit(X_train, y_train)\n",
    "\n",
    "y_pred = model.predict(X_test)\n",
    "\n",
    "accuracy = accuracy_score(y_test, y_pred)\n",
    "\n",
    "print(f'Accuracy: {accuracy * 100:.2f}%')\n"
   ]
  },
  {
   "cell_type": "code",
   "execution_count": null,
   "id": "65730508",
   "metadata": {},
   "outputs": [],
   "source": []
  }
 ],
 "metadata": {
  "kernelspec": {
   "display_name": "Python 3",
   "language": "python",
   "name": "python3"
  },
  "language_info": {
   "codemirror_mode": {
    "name": "ipython",
    "version": 3
   },
   "file_extension": ".py",
   "mimetype": "text/x-python",
   "name": "python",
   "nbconvert_exporter": "python",
   "pygments_lexer": "ipython3",
   "version": "3.12.4"
  }
 },
 "nbformat": 4,
 "nbformat_minor": 5
}
