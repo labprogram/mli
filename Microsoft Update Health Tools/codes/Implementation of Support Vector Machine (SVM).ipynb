{
 "cells": [
  {
   "cell_type": "code",
   "execution_count": 1,
   "id": "1c30ebdd",
   "metadata": {},
   "outputs": [
    {
     "name": "stdout",
     "output_type": "stream",
     "text": [
      "\n",
      "Accuracy Of SVM For The Given Dataset :  0.375\n"
     ]
    }
   ],
   "source": [
    "import pandas as pd\n",
    "from sklearn.model_selection import train_test_split\n",
    "from sklearn.svm import SVC\n",
    "from sklearn.metrics import confusion_matrix\n",
    "\n",
    "data = pd.read_csv(\"C:/Users/ADMIN/Desktop/ml/datasets/apples_and_oranges.csv\")\n",
    "training_set, test_set = train_test_split(data, test_size=0.2, random_state=1)\n",
    "X_train = training_set.iloc[:, 0:2].values\n",
    "Y_train = training_set.iloc[:, 2].values\n",
    "X_test = test_set.iloc[:, 0:2].values\n",
    "Y_test = test_set.iloc[:, 2].values\n",
    "\n",
    "classifier = SVC(kernel='rbf', random_state=1)\n",
    "classifier.fit(X_train, Y_train)\n",
    "Y_pred = classifier.predict(X_test)\n",
    "\n",
    "test_set[\"Predictions\"] = Y_pred\n",
    "cm = confusion_matrix(Y_test, Y_pred)\n",
    "accuracy = float(cm.diagonal().sum()) / len(Y_test)\n",
    "print(\"\\nAccuracy Of SVM For The Given Dataset : \", accuracy)\n"
   ]
  },
  {
   "cell_type": "code",
   "execution_count": null,
   "id": "563fb76b",
   "metadata": {},
   "outputs": [],
   "source": []
  }
 ],
 "metadata": {
  "kernelspec": {
   "display_name": "Python 3",
   "language": "python",
   "name": "python3"
  },
  "language_info": {
   "codemirror_mode": {
    "name": "ipython",
    "version": 3
   },
   "file_extension": ".py",
   "mimetype": "text/x-python",
   "name": "python",
   "nbconvert_exporter": "python",
   "pygments_lexer": "ipython3",
   "version": "3.12.4"
  }
 },
 "nbformat": 4,
 "nbformat_minor": 5
}
