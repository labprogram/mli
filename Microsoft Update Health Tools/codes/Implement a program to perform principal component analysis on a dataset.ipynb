{
 "cells": [
  {
   "cell_type": "code",
   "execution_count": 1,
   "id": "954ba99f",
   "metadata": {},
   "outputs": [
    {
     "name": "stdout",
     "output_type": "stream",
     "text": [
      "Standardized data:\n",
      "[[-1.22474487 -1.22474487 -1.22474487]\n",
      " [ 0.          0.          0.        ]\n",
      " [ 1.22474487  1.22474487  1.22474487]]\n",
      "Covariance matrix:\n",
      "[[1.5 1.5 1.5]\n",
      " [1.5 1.5 1.5]\n",
      " [1.5 1.5 1.5]]\n",
      "Eigenvalues:\n",
      "[0.  4.5 0. ]\n",
      "Eigenvectors:\n",
      "[[-0.81649658  0.57735027  0.        ]\n",
      " [ 0.40824829  0.57735027 -0.70710678]\n",
      " [ 0.40824829  0.57735027  0.70710678]]\n",
      "Projected data:\n",
      "[[-2.12132034e+00  1.06617010e-16]\n",
      " [ 0.00000000e+00  0.00000000e+00]\n",
      " [ 2.12132034e+00 -1.06617010e-16]]\n",
      "Variance explained:\n",
      "1.0\n"
     ]
    }
   ],
   "source": [
    "import numpy as np\n",
    "\n",
    "def standardize(X):\n",
    "    return (X - np.mean(X, axis=0)) / np.std(X, axis=0)\n",
    "\n",
    "def compute_covariance_matrix(X):\n",
    "    return np.cov(X.T)\n",
    "\n",
    "def find_eigenvectors_and_eigenvalues(X):\n",
    "    cov_matrix = compute_covariance_matrix(X)\n",
    "    eigenvalues, eigenvectors = np.linalg.eig(cov_matrix)\n",
    "    return eigenvalues, eigenvectors\n",
    "\n",
    "def project_data(X, eigenvectors, k):\n",
    "    sorted_eigenvectors = eigenvectors[:, np.argsort(-np.abs(np.linalg.eigvals(compute_covariance_matrix(X))))[:k]]\n",
    "    return np.dot(X, sorted_eigenvectors)\n",
    "\n",
    "def get_variance_explained(eigenvalues, k):\n",
    "    return sum(eigenvalues[:k]) / sum(eigenvalues)\n",
    "\n",
    "X = np.array([[1, 2, 3], [4, 5, 6], [7, 8, 9]])\n",
    "X_std = standardize(X)\n",
    "eigenvalues, eigenvectors = find_eigenvectors_and_eigenvalues(X_std)\n",
    "projected_data = project_data(X_std, eigenvectors, 2)\n",
    "variance_explained = get_variance_explained(eigenvalues, 2)\n",
    "\n",
    "print(\"Standardized data:\")\n",
    "print(X_std)\n",
    "print(\"Covariance matrix:\")\n",
    "print(compute_covariance_matrix(X_std))\n",
    "print(\"Eigenvalues:\")\n",
    "print(eigenvalues)\n",
    "print(\"Eigenvectors:\")\n",
    "print(eigenvectors)\n",
    "print(\"Projected data:\")\n",
    "print(projected_data)\n",
    "print(\"Variance explained:\")\n",
    "print(variance_explained)\n"
   ]
  },
  {
   "cell_type": "code",
   "execution_count": null,
   "id": "e679e21d",
   "metadata": {},
   "outputs": [],
   "source": []
  }
 ],
 "metadata": {
  "kernelspec": {
   "display_name": "Python 3",
   "language": "python",
   "name": "python3"
  },
  "language_info": {
   "codemirror_mode": {
    "name": "ipython",
    "version": 3
   },
   "file_extension": ".py",
   "mimetype": "text/x-python",
   "name": "python",
   "nbconvert_exporter": "python",
   "pygments_lexer": "ipython3",
   "version": "3.12.4"
  }
 },
 "nbformat": 4,
 "nbformat_minor": 5
}
