{
 "cells": [
  {
   "cell_type": "code",
   "execution_count": null,
   "id": "bf8fe682",
   "metadata": {},
   "outputs": [
    {
     "name": "stdout",
     "output_type": "stream",
     "text": [
      "\n",
      "Scaled data:\n",
      " [[0.4 0.7 0.6 0.4 0.  0.5 0.2 0.5]\n",
      " [0.1 0.4 0.5 0.3 0.  0.4 0.1 0.2]\n",
      " [0.5 0.9 0.5 0.  0.  0.3 0.3 0.2]\n",
      " [0.1 0.4 0.5 0.2 0.1 0.4 0.  0. ]\n",
      " [0.  0.7 0.3 0.4 0.2 0.6 0.9 0.2]\n",
      " [0.3 0.6 0.6 0.  0.  0.4 0.1 0.2]\n",
      " [0.2 0.4 0.4 0.3 0.1 0.5 0.1 0.1]\n",
      " [0.6 0.6 0.  0.  0.  0.5 0.  0.1]\n",
      " [0.1 1.  0.6 0.5 0.6 0.5 0.  0.5]\n",
      " [0.5 0.6 0.8 0.  0.  0.  0.1 0.6]]\n"
     ]
    }
   ],
   "source": [
    "#SCALING\n",
    "from pandas import read_csv\n",
    "from numpy import set_printoptions\n",
    "from sklearn import preprocessing\n",
    "\n",
    "# diabetes.csv dataset\n",
    "path = r'C:/Users/ADMIN/Desktop/ml/datasets/diabetes.csv'\n",
    "dataframe = read_csv(path)  \n",
    "array = dataframe.values[:, :-1]  \n",
    "\n",
    "scaler = preprocessing.MinMaxScaler(feature_range=(0, 1))\n",
    "rescaled = scaler.fit_transform(array)\n",
    "\n",
    "set_printoptions(precision=1)\n",
    "print(\"\\nScaled data:\\n\", rescaled[0:10])\n"
   ]
  },
  {
   "cell_type": "code",
   "execution_count": null,
   "id": "1887c488",
   "metadata": {},
   "outputs": [
    {
     "name": "stdout",
     "output_type": "stream",
     "text": [
      "\n",
      "Normalized data:\n",
      " [[0.02 0.43 0.21 0.1  0.   0.1  0.   0.14]\n",
      " [0.   0.36 0.28 0.12 0.   0.11 0.   0.13]\n",
      " [0.03 0.59 0.21 0.   0.   0.07 0.   0.1 ]]\n"
     ]
    }
   ],
   "source": [
    "#L1 Normalization\n",
    "from pandas import read_csv\n",
    "from numpy import set_printoptions\n",
    "from sklearn.preprocessing import Normalizer\n",
    "\n",
    "# diabetes.csv dataset\n",
    "path = r'C:/Users/ADMIN/Desktop/ml/datasets/diabetes.csv'\n",
    "names = ['preg', 'plas', 'pres', 'skin', 'test', 'mass', 'pedi', 'age', 'class']\n",
    "dataframe = read_csv(path, names=names, skiprows=1)\n",
    "array = dataframe.values[:, :-1]  \n",
    "\n",
    "normalizer = Normalizer(norm='l1').fit(array)\n",
    "normalized = normalizer.transform(array)\n",
    "\n",
    "set_printoptions(precision=2)\n",
    "print(\"\\nNormalized data:\\n\", normalized[0:3])\n"
   ]
  },
  {
   "cell_type": "code",
   "execution_count": 7,
   "id": "b3d470f7",
   "metadata": {},
   "outputs": [
    {
     "name": "stdout",
     "output_type": "stream",
     "text": [
      "\n",
      "Normalized data:\n",
      " [[0.03 0.83 0.4  0.2  0.   0.19 0.   0.28]\n",
      " [0.01 0.72 0.56 0.24 0.   0.22 0.   0.26]\n",
      " [0.04 0.92 0.32 0.   0.   0.12 0.   0.16]]\n"
     ]
    }
   ],
   "source": [
    "#L2 Normalization\n",
    "from pandas import read_csv\n",
    "from numpy import set_printoptions\n",
    "from sklearn.preprocessing import Normalizer\n",
    "\n",
    "# diabetes.csv dataset\n",
    "path = r'C:/Users/ADMIN/Desktop/ml/datasets/diabetes.csv'\n",
    "names = ['preg', 'plas', 'pres', 'skin', 'test', 'mass', 'pedi', 'age', 'class']\n",
    "dataframe = read_csv(path, names=names, skiprows=1)\n",
    "array = dataframe.values[:, :-1]  \n",
    "\n",
    "normalizer = Normalizer(norm='l2').fit(array)\n",
    "normalized = normalizer.transform(array)\n",
    "\n",
    "set_printoptions(precision=2)\n",
    "print(\"\\nNormalized data:\\n\", normalized[0:3])\n"
   ]
  },
  {
   "cell_type": "code",
   "execution_count": 11,
   "id": "92a47a0d",
   "metadata": {},
   "outputs": [
    {
     "name": "stdout",
     "output_type": "stream",
     "text": [
      "\n",
      "Binarized data:\n",
      " [[1. 1. 1. 1. 1. 1. 0. 1. 0.]\n",
      " [1. 1. 1. 1. 0. 1. 1. 1. 1.]\n",
      " [1. 1. 1. 1. 0. 1. 0. 1. 0.]\n",
      " [1. 1. 1. 0. 0. 1. 1. 1. 1.]\n",
      " [1. 1. 1. 1. 1. 1. 0. 1. 0.]]\n"
     ]
    }
   ],
   "source": [
    "#BINARIZATION\n",
    "import pandas as pd\n",
    "from sklearn.preprocessing import Binarizer\n",
    "from pandas import read_csv\n",
    "from sklearn.impute import SimpleImputer\n",
    "\n",
    "path = r'C:/Users/ADMIN/Desktop/ml/datasets/diabetes.csv'\n",
    "names = ['preg', 'plas', 'pres', 'skin', 'test', 'mass', 'pedi', 'age', 'class']\n",
    "dataframe = read_csv(path, names=names)\n",
    "\n",
    "dataframe = dataframe.apply(pd.to_numeric, errors='coerce')\n",
    "\n",
    "imputer = SimpleImputer(strategy='mean')\n",
    "dataframe = pd.DataFrame(imputer.fit_transform(dataframe), columns=names)\n",
    "\n",
    "array = dataframe.values\n",
    "\n",
    "binarizer = Binarizer(threshold=0.5).fit(array)\n",
    "Data_binarized = binarizer.transform(array)\n",
    "print(\"\\nBinarized data:\\n\", Data_binarized[0:5])"
   ]
  },
  {
   "cell_type": "code",
   "execution_count": null,
   "id": "75302049",
   "metadata": {},
   "outputs": [
    {
     "name": "stdout",
     "output_type": "stream",
     "text": [
      "\n",
      "Rescaled data:\n",
      " [[  nan   nan   nan   nan   nan   nan   nan   nan]\n",
      " [ 0.64  0.85  0.15  0.91 -0.69  0.2   0.47  1.43]\n",
      " [-0.84 -1.12 -0.16  0.53 -0.69 -0.68 -0.37 -0.19]\n",
      " [ 1.23  1.94 -0.26 -1.29 -0.69 -1.1   0.6  -0.11]\n",
      " [-0.84 -1.   -0.16  0.15  0.12 -0.49 -0.92 -1.04]]\n"
     ]
    }
   ],
   "source": [
    "#STANDARDIZATION\n",
    "from sklearn.preprocessing import StandardScaler\n",
    "from pandas import read_csv\n",
    "from numpy import set_printoptions\n",
    "\n",
    "path = r'C:/Users/ADMIN/Desktop/ml/datasets/diabetes.csv'\n",
    "names = ['preg', 'plas', 'pres', 'skin', 'test', 'mass', 'pedi', 'age', 'class']\n",
    "dataframe = read_csv(path, names=names)\n",
    "\n",
    "X = dataframe.drop('class', axis=1)\n",
    "y = dataframe['class']\n",
    "\n",
    "X = X.apply(pd.to_numeric, errors='coerce')\n",
    "\n",
    "data_scaler = StandardScaler().fit(X)\n",
    "data_rescaled = data_scaler.transform(X)\n",
    "\n",
    "set_printoptions(precision=2)\n",
    "print(\"\\nRescaled data:\\n\", data_rescaled[0:5])\n"
   ]
  },
  {
   "cell_type": "code",
   "execution_count": 15,
   "id": "4630cd8e",
   "metadata": {},
   "outputs": [
    {
     "name": "stdout",
     "output_type": "stream",
     "text": [
      "\n",
      "Labels = ['green', 'red', 'black']\n",
      "Encoded values = [1, 2, 0]\n",
      "\n",
      "Encoded values = [3, 0, 4, 1]\n",
      "\n",
      "Decoded labels = ['white', 'black', 'yellow', 'green']\n"
     ]
    }
   ],
   "source": [
    "#DATA LABELLING\n",
    "import numpy as np\n",
    "from sklearn import preprocessing\n",
    "input_labels = ['red','black','red','green','black','yellow','white'] \n",
    "encoder = preprocessing.LabelEncoder()\n",
    "encoder.fit(input_labels)\n",
    "test_labels = ['green','red','black']\n",
    "encoded_values = encoder.transform(test_labels)\n",
    "print(\"\\nLabels =\", test_labels)\n",
    "print(\"Encoded values =\", list(encoded_values))\n",
    "encoded_values = [3,0,4,1]\n",
    "decoded_list = encoder.inverse_transform(encoded_values)\n",
    "print(\"\\nEncoded values =\", encoded_values)\n",
    "print(\"\\nDecoded labels =\", list(decoded_list))\n"
   ]
  },
  {
   "cell_type": "code",
   "execution_count": null,
   "id": "109b3a1e",
   "metadata": {},
   "outputs": [],
   "source": []
  }
 ],
 "metadata": {
  "kernelspec": {
   "display_name": "Python 3",
   "language": "python",
   "name": "python3"
  },
  "language_info": {
   "codemirror_mode": {
    "name": "ipython",
    "version": 3
   },
   "file_extension": ".py",
   "mimetype": "text/x-python",
   "name": "python",
   "nbconvert_exporter": "python",
   "pygments_lexer": "ipython3",
   "version": "3.12.4"
  }
 },
 "nbformat": 4,
 "nbformat_minor": 5
}
